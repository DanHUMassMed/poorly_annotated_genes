{
 "cells": [
  {
   "cell_type": "markdown",
   "metadata": {},
   "source": [
    "## Extract phenotype data for all protein coding genes from Wormbase"
   ]
  },
  {
   "cell_type": "code",
   "execution_count": 3,
   "metadata": {},
   "outputs": [],
   "source": [
    "import pandas as pd\n",
    "import time\n",
    "\n",
    "wormbase_version=\"WS293\"\n",
    "\n",
    "gene_ids_df = pd.read_csv(f\"./wormbase_data/c_elegans.PRJNA13758.{wormbase_version}.geneIDs.csv\") \n",
    "\n",
    "# Extract only the protein coding genes\n",
    "protein_coding_genes_df = gene_ids_df[gene_ids_df[\"Gene_Type\"].isin([\"protein_coding_gene\", \"gene\"])]\n",
    "\n",
    "# Expect we have 21,506 genes to process\n",
    "assert len(protein_coding_genes_df) == 21_506\n",
    "\n",
    "# UTILITY FUNCTIONS\n",
    "# Track the time to make a function call\n",
    "def formatted_elapsed_time(start,end=None):\n",
    "    minute=60\n",
    "    hour  =60 * minute\n",
    "\n",
    "    if end == None:\n",
    "        end = time.time()\n",
    "    total_seconds = end - start\n",
    "    hours = total_seconds // hour\n",
    "    minutes = (total_seconds % hour) // minute\n",
    "    seconds = (total_seconds % hour) % minute\n",
    "    return f'Time: {hours=} {minutes=} {seconds=:.2f}'\n"
   ]
  },
  {
   "cell_type": "code",
   "execution_count": 4,
   "metadata": {},
   "outputs": [],
   "source": [
    "import csv\n",
    "\n",
    "# Given a phenotype_dict and a phenotype_list add only new (unique) phenotypes from the list to the dictionary\n",
    "def unique_phenotypes(phenotype_dict, phenotype_list):\n",
    "    for item in phenotype_list:\n",
    "        wbpt_id = item['wbpt_id']\n",
    "        wbpt_name = item['wbpt_name']\n",
    "        \n",
    "        evidence_allele = item.get('evidence_allele', None)\n",
    "        evidence_rnai = item.get('evidence_rnai', None)\n",
    "        evidence = \"\"\n",
    "        if evidence_allele:\n",
    "            evidence = 'allele'\n",
    "        elif evidence_rnai:\n",
    "            evidence = evidence_rnai\n",
    "            \n",
    "        if wbpt_id not in phenotype_dict:\n",
    "            phenotype_dict[wbpt_id] = {'name':wbpt_name, 'evidence':evidence}\n",
    "    return phenotype_dict\n",
    "\n",
    "# Given a phenotype_list return a dictionary with unique phenotypes and a count of \n",
    "# the occurrences of that phenotype in the list\n",
    "def count_phenotypes(phenotype_list):\n",
    "    phenotype_counts = {}\n",
    "    for phenotype in phenotype_list:\n",
    "        wbpt_id = phenotype['wbpt_id']\n",
    "        if wbpt_id in phenotype_counts:\n",
    "            phenotype_counts[wbpt_id] += 1\n",
    "        else:\n",
    "            phenotype_counts[wbpt_id] = 1\n",
    "            \n",
    "    return phenotype_counts\n",
    "\n",
    "# Write the list of uniques phenotypes to a file\n",
    "def phenotypes_to_csv(phenotype_dict, filename):\n",
    "    with open(filename, 'w', newline='') as csvfile:\n",
    "        writer = csv.writer(csvfile)\n",
    "        writer.writerow([\"ID\", \"Name\",\"Evidence\"])  # header\n",
    "        for wbpt_id, wbpt_data in sorted(phenotype_dict.items()):\n",
    "            name = wbpt_data.get('name','')\n",
    "            evidence = wbpt_data.get('evidence','')\n",
    "            writer.writerow([wbpt_id, name, evidence])\n",
    "\n",
    "# Write the phenotypes for each gene to a file\n",
    "def gene_phenotypes_to_csv(gene_phenotypes, filename):\n",
    "    with open(filename, 'w', newline='') as csvfile:\n",
    "        writer = csv.writer(csvfile)\n",
    "        writer.writerow([\"wormbase_id\", \"phenotype\", \"count\"])  # header\n",
    "        for gene, phenotypes in sorted(gene_phenotypes.items()):\n",
    "            for phenotype, count in phenotypes.items():\n",
    "                writer.writerow([gene, phenotype, count])\n",
    "\n"
   ]
  },
  {
   "cell_type": "markdown",
   "metadata": {},
   "source": [
    "## Wormbase API Calls\n",
    "\n",
    "* Get the phenotype data for all protein coding genes\n",
    "* Get all unique phenotype descriptions\n",
    "\n",
    "<span style=\"color:red\">Note: Executing the below cell will take approximately 6 Minutes to run.</span>"
   ]
  },
  {
   "cell_type": "code",
   "execution_count": 4,
   "metadata": {},
   "outputs": [
    {
     "name": "stdout",
     "output_type": "stream",
     "text": [
      "Check if you have a connection!! | Retry- 1 | Response msg- <urlopen error [Errno 60] Operation timed out>\n",
      "Check if you have a connection!! | Retry- 1 | Response msg- <urlopen error [Errno 60] Operation timed out>\n",
      "Time: hours=0.0 minutes=5.0 seconds=23.53\n"
     ]
    }
   ],
   "source": [
    "from pub_worm.wormbase.wormbase_api import WormbaseAPI\n",
    "\n",
    "start_time = time.time()\n",
    "\n",
    "# Set the API Class to get phenotype data from Wormbase\n",
    "wormbase_api = WormbaseAPI(\"field\", \"gene\", \"phenotype\")\n",
    "\n",
    "genes_to_process = protein_coding_genes_df['Wormbase_Id'].tolist()\n",
    "\n",
    "# This is a Multi-process call using 10 CPUs\n",
    "wormbase_data_results = wormbase_api.get_wormbase_data_cpu(genes_to_process, 10)\n",
    "print(formatted_elapsed_time(start_time))\n",
    "\n"
   ]
  },
  {
   "cell_type": "code",
   "execution_count": null,
   "metadata": {},
   "outputs": [],
   "source": [
    "gene_phenotypes = {}\n",
    "phenotype_dict = {}\n",
    "count=0\n",
    "for wormbase_data_result in wormbase_data_results:\n",
    "    wormbase_id, phenotype_list_dict = next(iter(wormbase_data_result.items()))    \n",
    "    #If we has a phenotype_list we process it if we have an empty dict we skip\n",
    "    if 'phenotype_list' in phenotype_list_dict:\n",
    "        # If phenotype_list_dict['phenotype_list'] is a dict it means we only have 1 result\n",
    "        # but we will wrap it in a list to make processing easier\n",
    "        if isinstance(phenotype_list_dict['phenotype_list'], dict):\n",
    "            phenotype_list = [phenotype_list_dict['phenotype_list']]\n",
    "        else:\n",
    "            phenotype_list = phenotype_list_dict['phenotype_list']\n",
    "            \n",
    "        phenotype_dict = unique_phenotypes(phenotype_dict, phenotype_list)\n",
    "        phenotype_counts_dict = count_phenotypes(phenotype_list)\n",
    "        gene_phenotypes[wormbase_id]= phenotype_counts_dict\n",
    "\n",
    "    \n",
    "phenotypes_to_csv(phenotype_dict, f\"wormbase_data/phenotypes_{wormbase_version}.csv\")\n",
    "gene_phenotypes_to_csv(gene_phenotypes, f\"wormbase_data/gene_phenotypes_{wormbase_version}.csv\")\n"
   ]
  },
  {
   "cell_type": "markdown",
   "metadata": {},
   "source": [
    "# Appendix"
   ]
  },
  {
   "cell_type": "code",
   "execution_count": null,
   "metadata": {},
   "outputs": [],
   "source": [
    "!pip install --upgrade  pub_worm"
   ]
  }
 ],
 "metadata": {
  "kernelspec": {
   "display_name": "dan-dev",
   "language": "python",
   "name": "python3"
  },
  "language_info": {
   "codemirror_mode": {
    "name": "ipython",
    "version": 3
   },
   "file_extension": ".py",
   "mimetype": "text/x-python",
   "name": "python",
   "nbconvert_exporter": "python",
   "pygments_lexer": "ipython3",
   "version": "3.10.13"
  }
 },
 "nbformat": 4,
 "nbformat_minor": 2
}
