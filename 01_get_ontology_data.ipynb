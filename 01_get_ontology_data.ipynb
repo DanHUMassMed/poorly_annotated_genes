{
 "cells": [
  {
   "cell_type": "markdown",
   "metadata": {},
   "source": [
    "## Extract gene ontology (GO Term) data for all protein coding genes from Wormbase"
   ]
  },
  {
   "cell_type": "code",
   "execution_count": 4,
   "metadata": {},
   "outputs": [],
   "source": [
    "import pandas as pd\n",
    "import time\n",
    "\n",
    "wormbase_version=\"WS293\"\n",
    "gene_ids_df = pd.read_csv(f\"./wormbase_data/c_elegans.PRJNA13758.{wormbase_version}.geneIDs.csv\") \n",
    "\n",
    "# # Extract only the protein coding genes\n",
    "protein_coding_genes_df = gene_ids_df[gene_ids_df[\"Gene_Type\"].isin([\"protein_coding_gene\", \"gene\"])]\n",
    "# Note: only 15 Genes from the 27,667 not_protein_coding_genes_df have Ontology Terms\n",
    "not_protein_coding_genes_df = gene_ids_df[~gene_ids_df[\"Gene_Type\"].isin([\"protein_coding_gene\", \"gene\"])]\n",
    "\n",
    "# Check for the expected counts\n",
    "assert len(protein_coding_genes_df) == 21_506\n",
    "assert len(not_protein_coding_genes_df) == 27_667\n",
    "\n",
    "\n",
    "# UTILITY FUNCTIONS\n",
    "# Track the time to make a function call\n",
    "def formatted_elapsed_time(start,end=None):\n",
    "    minute=60\n",
    "    hour  =60 * minute\n",
    "\n",
    "    if end == None:\n",
    "        end = time.time()\n",
    "    total_seconds = end - start\n",
    "    hours = total_seconds // hour\n",
    "    minutes = (total_seconds % hour) // minute\n",
    "    seconds = (total_seconds % hour) % minute\n",
    "    return f'Time: {hours=} {minutes=} {seconds=:.2f}'\n",
    "\n"
   ]
  },
  {
   "cell_type": "markdown",
   "metadata": {},
   "source": [
    "## Wormbase API Calls\n",
    "\n",
    "* Get the gene ontology data for all protein coding genes\n",
    "\n",
    "<span style=\"color:red\">Note: Executing the below cell will take approximately 9 Minutes to run.</span>\n"
   ]
  },
  {
   "cell_type": "code",
   "execution_count": 5,
   "metadata": {},
   "outputs": [
    {
     "name": "stdout",
     "output_type": "stream",
     "text": [
      "Check if you have a connection!! | Retry- 1 | Response msg- <urlopen error [Errno 60] Operation timed out>\n",
      "Check if you have a connection!! | Retry- 1 | Response msg- <urlopen error [Errno 60] Operation timed out>\n",
      "Time: hours=0.0 minutes=5.0 seconds=18.09\n"
     ]
    }
   ],
   "source": [
    "import time\n",
    "from pub_worm.wormbase.wormbase_api import WormbaseAPI\n",
    "\n",
    "start_time = time.time()\n",
    "\n",
    "# Set the API Class to get gene ontology data from Wormbase\n",
    "wormbase_api = WormbaseAPI(\"field\", \"gene\", \"gene_ontology_summary\")\n",
    "\n",
    "# Test Genes\n",
    "#genes_to_process = [\"WBGene00000001\",  \"WBGene00000002\", \"WBGene00000003\", \"WBGene00000004\"]\n",
    "\n",
    "genes_to_process = list(protein_coding_genes_df['Wormbase_Id'])\n",
    "\n",
    "# This is a Multi-process call using 10 CPUs\n",
    "wormbase_data_results = wormbase_api.get_wormbase_data_cpu(genes_to_process, 10)\n",
    "print(formatted_elapsed_time(start_time))\n"
   ]
  },
  {
   "cell_type": "code",
   "execution_count": 6,
   "metadata": {},
   "outputs": [],
   "source": [
    "def ontology_json_to_list(wormbase_id, json_obj):\n",
    "    rows = []\n",
    "    row = []\n",
    "    for category, cat_lst in json_obj.items():\n",
    "        row = [wormbase_id]\n",
    "        if isinstance(cat_lst, dict):\n",
    "            cat_lst = [cat_lst]\n",
    "        for cat_lst_item in cat_lst:\n",
    "            row.append(cat_lst_item['go_id'])\n",
    "            row.append(category)\n",
    "            row.append(cat_lst_item['go_term'])\n",
    "            rows.append(row)\n",
    "            row = [wormbase_id]\n",
    "    return rows"
   ]
  },
  {
   "cell_type": "code",
   "execution_count": 7,
   "metadata": {},
   "outputs": [],
   "source": [
    "# process wormbase_data_results write data to a CSV file\n",
    "\n",
    "ontology_full_list = []\n",
    "for result_item in wormbase_data_results:\n",
    "    key = list(result_item.keys())[0]\n",
    "    if 'gene_ontology_summary' in result_item[key]:\n",
    "        #print( result_item[key])\n",
    "        value = result_item[key]['gene_ontology_summary']\n",
    "        ontology_list = ontology_json_to_list(key, value)\n",
    "        ontology_full_list.extend(ontology_list)\n",
    "    \n",
    "df = pd.DataFrame(ontology_full_list)\n",
    "df.columns=[\"Wormbase_Id\", \"Go_Id\", \"Category\", \"Term\"]\n",
    "df.to_csv(f\"wormbase_data/gene_ontology_{wormbase_version}.csv\", index=False)"
   ]
  },
  {
   "cell_type": "code",
   "execution_count": 8,
   "metadata": {},
   "outputs": [],
   "source": [
    "# Get Unique GO Terms \n",
    "gene_ontology_df = pd.read_csv(f\"./wormbase_data/gene_ontology_{wormbase_version}.csv\")\n",
    "gene_ontology_df = gene_ontology_df[[\"Go_Id\",\"Category\",\"Term\"]]\n",
    "gene_ontology_df = gene_ontology_df.drop_duplicates(subset='Go_Id', keep='first')\n",
    "gene_ontology_df = gene_ontology_df.sort_values(by=['Category','Go_Id'])\n",
    "gene_ontology_df.to_csv(f\"./wormbase_data/ontology_{wormbase_version}.csv\", index=False)"
   ]
  },
  {
   "cell_type": "code",
   "execution_count": null,
   "metadata": {},
   "outputs": [],
   "source": []
  }
 ],
 "metadata": {
  "kernelspec": {
   "display_name": "dan-dev",
   "language": "python",
   "name": "python3"
  },
  "language_info": {
   "codemirror_mode": {
    "name": "ipython",
    "version": 3
   },
   "file_extension": ".py",
   "mimetype": "text/x-python",
   "name": "python",
   "nbconvert_exporter": "python",
   "pygments_lexer": "ipython3",
   "version": "3.10.13"
  }
 },
 "nbformat": 4,
 "nbformat_minor": 2
}
