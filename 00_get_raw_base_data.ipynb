{
 "cells": [
  {
   "cell_type": "markdown",
   "metadata": {},
   "source": [
    "### Download and Extract Gene IDs from WormBase\n",
    "\n",
    "This code automates the process of downloading and extracting gene IDs from WormBase. \n",
    "\n",
    "#### `download_and_extract_gene_ids(wormbase_version, gene_ids, output_dir)`\n",
    "This function downloads a gene IDs file from WormBase for a specified release version, unzips the `.gz` file, and removes the original compressed file after extraction.\n",
    "\n",
    "- **Behavior**:\n",
    "  - Constructs the appropriate URL for the gene IDs file based on the provided WormBase version.\n",
    "  - Downloads the `.gz` file to the specified output directory.\n",
    "  - Unzips the downloaded `.gz` file and saves the uncompressed version in the same directory.\n",
    "  - Deletes the original `.gz` file after extraction is complete.\n",
    "\n",
    "\n",
    "#### Example Execution:\n",
    "In the last section of the code, the function `download_and_extract_gene_ids()` is called with the specified parameters:\n",
    "- **WormBase version**: `\"WS293\"`\n",
    "- **Gene IDs file**: `c_elegans.PRJNA13758.WS293.geneIDs.txt.gz`\n",
    "- **Output directory**: `\"./wormbase_data\"`\n",
    "\n",
    "This will download the gene IDs file for *C. elegans* (WormBase version `WS293`) and place the unzipped file in the `wormbase_data` directory."
   ]
  },
  {
   "cell_type": "code",
   "execution_count": 2,
   "metadata": {},
   "outputs": [],
   "source": [
    "import os\n",
    "import requests\n",
    "import gzip\n",
    "import shutil\n",
    "import csv\n",
    "\n",
    "def download_url(file_url, output_file_path):\n",
    "    response = requests.get(file_url, stream=True)\n",
    "    if response.status_code == 200:\n",
    "        with open(output_file_path, 'wb') as f:\n",
    "            shutil.copyfileobj(response.raw, f)\n",
    "        print(f\"Downloaded: {output_file_path}\")\n",
    "    else:\n",
    "        print(f\"Failed to download: {file_url} (status code: {response.status_code})\")\n",
    "    return\n",
    "\n",
    "    \n",
    "def download_and_extract_gene_ids(wormbase_version, output_dir):\n",
    "    gene_ids = f\"c_elegans.PRJNA13758.{wormbase_version}.geneIDs.txt.gz\"\n",
    "\n",
    "    base_url = f\"https://downloads.wormbase.org/releases/{wormbase_version}/species/c_elegans/PRJNA13758\"\n",
    "    file_url = f\"{base_url}/annotation/{gene_ids}\"\n",
    "\n",
    "    # Ensure output directory exists\n",
    "    os.makedirs(output_dir, exist_ok=True)\n",
    "\n",
    "    # Download the file\n",
    "    output_file_path = os.path.join(output_dir, gene_ids)\n",
    "    download_url(file_url, output_file_path)\n",
    "\n",
    "    # Unzip the file\n",
    "    with gzip.open(output_file_path, 'rb') as f_in:\n",
    "        with open(output_file_path.rstrip('.gz'), 'wb') as f_out:\n",
    "            shutil.copyfileobj(f_in, f_out)\n",
    "\n",
    "    # Remove the .gz file if it exists\n",
    "    if os.path.exists(output_file_path):\n",
    "        os.remove(output_file_path)\n",
    "        print(f\"Removed: {output_file_path}\")\n",
    "    else:\n",
    "        print(f\"{output_file_path} does not exist\")\n",
    "        "
   ]
  },
  {
   "cell_type": "code",
   "execution_count": 3,
   "metadata": {},
   "outputs": [
    {
     "name": "stdout",
     "output_type": "stream",
     "text": [
      "Downloaded: ./wormbase_data/c_elegans.PRJNA13758.WS293.geneIDs.txt.gz\n",
      "Removed: ./wormbase_data/c_elegans.PRJNA13758.WS293.geneIDs.txt.gz\n"
     ]
    }
   ],
   "source": [
    "# Define variables\n",
    "wormbase_version = \"WS293\"\n",
    "output_dir = \"./wormbase_data\"\n",
    "\n",
    "download_and_extract_gene_ids(wormbase_version, output_dir)"
   ]
  },
  {
   "cell_type": "markdown",
   "metadata": {},
   "source": [
    "### Process and Filter Gene IDs CSV File\n",
    "\n",
    "This script processes a CSV file containing gene IDs by filtering and selecting relevant columns. It generates an output CSV file with a clean structure and appropriate headers.\n",
    "\n",
    "#### Function: `process_gene_ids(input_file)`\n",
    "This function reads a CSV file, filters rows based on if the gen is \"Live\", selects relevant columns, and saves the processed data to a new CSV file. \n",
    "\n",
    "#### Key Steps:\n",
    "1. **Generate Output File Name**:\n",
    "   - The output file name is created by removing the last three characters from the input file name (e.g., `.gz`) and appending `.csv` to it.\n",
    "\n",
    "2. **Load CSV File**:\n",
    "   - The input file is loaded into a pandas DataFrame without headers (`header=None`) since the input file does not contain any column names.\n",
    "\n",
    "3. **Filter Rows**:\n",
    "   - The DataFrame is filtered to include only the rows where the value in the 5th column (index `4`) is `'Live'`.\n",
    "\n",
    "4. **Select Relevant Columns**:\n",
    "   - The function selects the 2nd, 3rd, 4th, and 6th columns (which correspond to index `1, 2, 3, 5`).\n",
    "\n",
    "5. **Add Column Headers**:\n",
    "   - Appropriate column headers are added for the output DataFrame:\n",
    "     - `Wormbase_Id`: The identifier from WormBase.\n",
    "     - `Gene_name`: The name of the gene.\n",
    "     - `Sequence_id`: The ID of the sequence.\n",
    "     - `Gene_Type`: The type of gene.\n",
    "\n",
    "6. **Save Processed Data**:\n",
    "   - The resulting DataFrame is saved as a CSV file with the generated file name, and the rows are saved without the index.\n",
    "\n",
    "\n",
    "#### Example Execution:\n",
    "- The input file is located in the `output_dir`, with the name stripped of `.gz`. The file is then processed and saved in a CSV format, ready for further analysis."
   ]
  },
  {
   "cell_type": "code",
   "execution_count": 4,
   "metadata": {},
   "outputs": [],
   "source": [
    "import pandas as pd\n",
    "\n",
    "def process_gene_ids(wormbase_version, output_dir):\n",
    "    \"\"\"\n",
    "    Processes a gene IDs CSV file by filtering rows where the 5th column is 'Live'\n",
    "    and extracting columns 2, 3, 4, and 6. Adds a header to the output file.\n",
    "    \n",
    "    The output file name is generated by stripping the last three characters from the input file name\n",
    "    and appending '.csv' to it.\n",
    "\n",
    "    Args:\n",
    "        input_file (str): Path to the input CSV file.\n",
    "    \"\"\"\n",
    "    gene_ids = f\"c_elegans.PRJNA13758.{wormbase_version}.geneIDs.txt.gz\"\n",
    "    input_file = f\"{output_dir}/{gene_ids.rstrip('.gz')}\"\n",
    "\n",
    "\n",
    "    # Generate the output file name\n",
    "    output_file = f\"{input_file[:-3]}csv\"\n",
    "\n",
    "    # Load the input CSV file into a DataFrame\n",
    "    df = pd.read_csv(input_file, header=None)\n",
    "\n",
    "    # Filter rows where the 5th column equals 'Live'\n",
    "    df_filtered = df[df[4] == 'Live']\n",
    "\n",
    "    # Select the required columns (2nd, 3rd, 4th, and 6th)\n",
    "    df_selected = df_filtered[[1, 2, 3, 5]]\n",
    "\n",
    "    # Add the appropriate column headers\n",
    "    df_selected.columns = [\"Wormbase_Id\", \"Gene_name\", \"Sequence_id\", \"Gene_Type\"]\n",
    "\n",
    "    # Save the result to the output file\n",
    "    df_selected.to_csv(output_file, index=False)\n",
    "\n",
    "    print(f\"Processed file saved to: {output_file}\")\n",
    "\n",
    "\n"
   ]
  },
  {
   "cell_type": "code",
   "execution_count": 5,
   "metadata": {},
   "outputs": [
    {
     "name": "stdout",
     "output_type": "stream",
     "text": [
      "Processed file saved to: ./wormbase_data/c_elegans.PRJNA13758.WS293.geneIDs.csv\n"
     ]
    }
   ],
   "source": [
    "# Example usage\n",
    "output_dir = \"./wormbase_data\"\n",
    "wormbase_version = \"WS293\"\n",
    "process_gene_ids(wormbase_version, output_dir)"
   ]
  },
  {
   "cell_type": "markdown",
   "metadata": {},
   "source": [
    "## Provide some summary info on Gene IDs"
   ]
  },
  {
   "cell_type": "code",
   "execution_count": 13,
   "metadata": {},
   "outputs": [
    {
     "name": "stdout",
     "output_type": "stream",
     "text": [
      "Gene_Type\n",
      "protein_coding_gene      19983\n",
      "piRNA_gene               15363\n",
      "ncRNA_gene                8487\n",
      "pseudogene                2131\n",
      "gene                      1523\n",
      "tRNA_gene                  634\n",
      "snoRNA_gene                346\n",
      "miRNA_gene                 261\n",
      "lincRNA_gene               193\n",
      "snRNA_gene                 129\n",
      "antisense_lncRNA_gene      100\n",
      "rRNA_gene                   22\n",
      "scRNA_gene                   1\n",
      "Name: count, dtype: int64\n"
     ]
    }
   ],
   "source": [
    "gene_ids_df = pd.read_csv('./wormbase_data/c_elegans.PRJNA13758.WS293.geneIDs.csv') \n",
    "unique_gene_types = gene_ids_df[\"Gene_Type\"].value_counts()\n",
    "print(unique_gene_types)"
   ]
  },
  {
   "cell_type": "markdown",
   "metadata": {},
   "source": [
    "### Download WormCat CSV File\n",
    "\n",
    "This code downloads a WormCat CSV file from a wormcat.com URL and saves it to a designated output directory. \n",
    "It ensures that the directory exists before saving the file.\n",
    "\n",
    "\n",
    "#### Example Execution:\n",
    "- The function downloads the file `whole_genome_v2_nov-11-2021.csv` from the WormCat website and saves it to the `./wormbase_data` directory (or any other specified directory)."
   ]
  },
  {
   "cell_type": "code",
   "execution_count": 6,
   "metadata": {},
   "outputs": [],
   "source": [
    "import os\n",
    "\n",
    "def download_wormcat_csv(output_dir=\"./\"):\n",
    "    url = \"http://www.wormcat.com/static/download/whole_genome_v2_nov-11-2021.csv\"\n",
    "    output_filename = url.split(\"/\")[-1]  # Get the filename from the URL\n",
    "\n",
    "    os.makedirs(output_dir, exist_ok=True)\n",
    "    output_file_path = os.path.join(output_dir, output_filename)\n",
    "\n",
    "    if os.path.exists(output_file_path):\n",
    "        print(f\"File already exists: {output_file_path}. Skipping download.\")\n",
    "        return\n",
    "    \n",
    "    download_url(url, output_file_path)\n",
    "    print(f\"File downloaded to: {output_file_path}\")\n",
    "\n"
   ]
  },
  {
   "cell_type": "code",
   "execution_count": 7,
   "metadata": {},
   "outputs": [
    {
     "name": "stdout",
     "output_type": "stream",
     "text": [
      "File already exists: ./wormbase_data/whole_genome_v2_nov-11-2021.csv. Skipping download.\n"
     ]
    }
   ],
   "source": [
    "download_wormcat_csv(\"./wormbase_data\")"
   ]
  },
  {
   "cell_type": "markdown",
   "metadata": {},
   "source": [
    "# Appendix"
   ]
  },
  {
   "cell_type": "code",
   "execution_count": null,
   "metadata": {},
   "outputs": [],
   "source": []
  }
 ],
 "metadata": {
  "kernelspec": {
   "display_name": "dan-dev",
   "language": "python",
   "name": "python3"
  },
  "language_info": {
   "codemirror_mode": {
    "name": "ipython",
    "version": 3
   },
   "file_extension": ".py",
   "mimetype": "text/x-python",
   "name": "python",
   "nbconvert_exporter": "python",
   "pygments_lexer": "ipython3",
   "version": "3.10.13"
  }
 },
 "nbformat": 4,
 "nbformat_minor": 2
}
