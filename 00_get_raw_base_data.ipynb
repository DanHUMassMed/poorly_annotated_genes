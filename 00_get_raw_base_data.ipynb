{
 "cells": [
  {
   "cell_type": "markdown",
   "metadata": {},
   "source": [
    "### Download and Extract the Latest Gene IDs from WormBase\n",
    "\n",
    "This code automates the process of downloading and extracting gene IDs from WormBase. \n",
    "\n",
    "1. Get the Latest Wormbase Version\n",
    "2. Download Wormbase based on Wormbase Naming convention\n",
    "3. Extract the Live genes to a CVS formatted file"
   ]
  },
  {
   "cell_type": "code",
   "execution_count": 3,
   "metadata": {},
   "outputs": [
    {
     "name": "stdout",
     "output_type": "stream",
     "text": [
      "The latest Wormbase Version is WS293\n",
      "Downloaded: ./wormbase_data/c_elegans.PRJNA13758.WS293.geneIDs.txt.gz\n",
      "Removed: ./wormbase_data/c_elegans.PRJNA13758.WS293.geneIDs.txt.gz\n",
      "Processed file saved to: ./wormbase_data/c_elegans.PRJNA13758.WS293.geneIDs.csv\n"
     ]
    }
   ],
   "source": [
    "from pub_worm.wormbase.wormbase_util import current_wormbase_version, download_gene_ids, extract_live_gene_ids\n",
    "\n",
    "output_dir = \"./wormbase_data\"\n",
    "\n",
    "wormbase_version = current_wormbase_version()\n",
    "print(f\"The latest Wormbase Version is {wormbase_version}\")\n",
    "\n",
    "# Download Gene IDs for the given Wormbase Version\n",
    "download_gene_ids(wormbase_version, output_dir)\n",
    "\n",
    "# Extract only the Live Genes for the given Wormbase Genes txt file\n",
    "extract_live_gene_ids(wormbase_version, output_dir)\n"
   ]
  },
  {
   "cell_type": "markdown",
   "metadata": {},
   "source": [
    "## Provide some summary info on Gene IDs"
   ]
  },
  {
   "cell_type": "code",
   "execution_count": 5,
   "metadata": {},
   "outputs": [
    {
     "name": "stdout",
     "output_type": "stream",
     "text": [
      "Gene_Type\n",
      "protein_coding_gene      19983\n",
      "piRNA_gene               15363\n",
      "ncRNA_gene                8487\n",
      "pseudogene                2131\n",
      "gene                      1523\n",
      "tRNA_gene                  634\n",
      "snoRNA_gene                346\n",
      "miRNA_gene                 261\n",
      "lincRNA_gene               193\n",
      "snRNA_gene                 129\n",
      "antisense_lncRNA_gene      100\n",
      "rRNA_gene                   22\n",
      "scRNA_gene                   1\n",
      "Name: count, dtype: int64\n"
     ]
    }
   ],
   "source": [
    "import pandas as pd\n",
    "\n",
    "gene_ids_df = pd.read_csv('./wormbase_data/c_elegans.PRJNA13758.WS293.geneIDs.csv') \n",
    "unique_gene_types = gene_ids_df[\"Gene_Type\"].value_counts()\n",
    "print(unique_gene_types)"
   ]
  },
  {
   "cell_type": "markdown",
   "metadata": {},
   "source": [
    "### Download WormCat CSV File\n",
    "\n",
    "This code downloads a WormCat CSV file from a wormcat.com URL and saves it to a designated output directory. \n",
    "It ensures that the directory exists before saving the file.\n",
    "\n",
    "\n",
    "#### Example Execution:\n",
    "- The function downloads the file `whole_genome_v2_nov-11-2021.csv` from the WormCat website and saves it to the `./wormbase_data` directory (or any other specified directory)."
   ]
  },
  {
   "cell_type": "code",
   "execution_count": 11,
   "metadata": {},
   "outputs": [],
   "source": [
    "import os\n",
    "import requests\n",
    "import shutil\n",
    "\n",
    "def _download_url(file_url, output_file_path):\n",
    "    response = requests.get(file_url, stream=True)\n",
    "    if response.status_code == 200:\n",
    "        with open(output_file_path, 'wb') as f:\n",
    "            shutil.copyfileobj(response.raw, f)\n",
    "        print(f\"Downloaded: {output_file_path}\")\n",
    "    else:\n",
    "        print(f\"Failed to download: {file_url} (status code: {response.status_code})\")\n",
    "    return\n",
    "\n",
    "def download_wormcat_csv(output_dir=\"./\"):\n",
    "    url = \"http://www.wormcat.com/static/download/whole_genome_v2_nov-11-2021.csv\"\n",
    "    output_filename = url.split(\"/\")[-1]  # Get the filename from the URL\n",
    "\n",
    "    os.makedirs(output_dir, exist_ok=True)\n",
    "    output_file_path = os.path.join(output_dir, output_filename)\n",
    "\n",
    "    if os.path.exists(output_file_path):\n",
    "        print(f\"File already exists: {output_file_path}. Skipping download.\")\n",
    "        return\n",
    "    \n",
    "    _download_url(url, output_file_path)\n",
    "    print(f\"File downloaded to: {output_file_path}\")\n",
    "\n"
   ]
  },
  {
   "cell_type": "code",
   "execution_count": 12,
   "metadata": {},
   "outputs": [
    {
     "name": "stdout",
     "output_type": "stream",
     "text": [
      "Downloaded: ./wormbase_data/whole_genome_v2_nov-11-2021.csv\n",
      "File downloaded to: ./wormbase_data/whole_genome_v2_nov-11-2021.csv\n"
     ]
    }
   ],
   "source": [
    "download_wormcat_csv(\"./wormbase_data\")"
   ]
  },
  {
   "cell_type": "markdown",
   "metadata": {},
   "source": [
    "# Appendix"
   ]
  },
  {
   "cell_type": "code",
   "execution_count": null,
   "metadata": {},
   "outputs": [],
   "source": []
  }
 ],
 "metadata": {
  "kernelspec": {
   "display_name": "dan-dev",
   "language": "python",
   "name": "python3"
  },
  "language_info": {
   "codemirror_mode": {
    "name": "ipython",
    "version": 3
   },
   "file_extension": ".py",
   "mimetype": "text/x-python",
   "name": "python",
   "nbconvert_exporter": "python",
   "pygments_lexer": "ipython3",
   "version": "3.10.13"
  }
 },
 "nbformat": 4,
 "nbformat_minor": 2
}
